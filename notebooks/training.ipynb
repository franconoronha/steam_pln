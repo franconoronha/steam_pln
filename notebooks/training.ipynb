{
 "cells": [
  {
   "cell_type": "code",
   "execution_count": 1,
   "metadata": {},
   "outputs": [],
   "source": [
    "import torch\n",
    "from torch.amp import GradScaler, autocast\n",
    "from torch.utils.data import DataLoader, Dataset\n",
    "from torch.optim import AdamW\n",
    "from sklearn.model_selection import train_test_split\n",
    "from sklearn.metrics import confusion_matrix, ConfusionMatrixDisplay\n",
    "import matplotlib.pyplot as plt\n",
    "from tqdm import tqdm\n",
    "from sklearn.utils import resample\n",
    "import pandas as pd\n",
    "import numpy as np\n",
    "import evaluate\n",
    "from datetime import datetime"
   ]
  },
  {
   "cell_type": "code",
   "execution_count": 2,
   "metadata": {},
   "outputs": [],
   "source": [
    "from transformers import AutoTokenizer, get_scheduler, AutoModelForSequenceClassification\n",
    "\n",
    "model_choice = 'bert'  # 'bert', 'distilbert', 'albertina'\n",
    "train_size = 100000 # Terá 50% de cada label\n",
    "batch_size = 32 # tamanho do batch pro treino (32 funciona pro bert, pra roBerTa é menos, isso tem a ver com a VRAM necessária)\n",
    "max_length = 256 # tamanho máximo das sequencias de entrada pro modelo, se a entrada for maior, ele trunca.\n",
    "num_workers = 8 # quantidade de workers (maior mais memoria gasta mais rapido o treino)\n",
    "num_epochs = 3"
   ]
  },
  {
   "cell_type": "code",
   "execution_count": 3,
   "metadata": {},
   "outputs": [],
   "source": [
    "def train_epoch(model, data_loader, optimizer, device):\n",
    "    model.train()\n",
    "    total_loss = 0\n",
    "    for batch in tqdm(data_loader, desc=\"Training\"):\n",
    "        optimizer.zero_grad()\n",
    "        input_ids = batch['input_ids'].to(device)\n",
    "        attention_mask = batch['attention_mask'].to(device)\n",
    "        labels = batch['label'].to(device)\n",
    "\n",
    "        with autocast('cuda'):\n",
    "            outputs = model(input_ids, attention_mask=attention_mask, labels=labels)\n",
    "            loss = outputs.loss\n",
    "            total_loss += loss.item()\n",
    "\n",
    "        scaler.scale(loss).backward()\n",
    "        scaler.step(optimizer)\n",
    "        scaler.update()\n",
    "        scheduler.step()\n",
    "\n",
    "    return total_loss / len(data_loader)\n",
    "\n",
    "def evaluateModel(model, data_loader, device):\n",
    "    model.eval()\n",
    "    total_loss = 0\n",
    "    all_predictions = []\n",
    "    all_labels = []\n",
    "    with torch.no_grad():\n",
    "        for batch in tqdm(data_loader, desc=\"Evaluating\"):\n",
    "            input_ids = batch['input_ids'].to(device)\n",
    "            attention_mask = batch['attention_mask'].to(device)\n",
    "            labels = batch['label'].to(device)\n",
    "\n",
    "            outputs = model(input_ids, attention_mask=attention_mask, labels=labels)\n",
    "            loss = outputs.loss\n",
    "            total_loss += loss.item()\n",
    "\n",
    "            logits = outputs.logits\n",
    "            if logits.shape[1] == 1:  # Binary classification case\n",
    "                predictions = (logits > 0).long().squeeze(1)  # Convert logits to binary predictions\n",
    "            else:\n",
    "                predictions = torch.argmax(logits, dim=1)  # Multiclass case\n",
    "            \n",
    "            all_predictions.extend(predictions.cpu().numpy())\n",
    "            all_labels.extend(labels.cpu().numpy())\n",
    "\n",
    "    eval_pred = (np.array(all_predictions), np.array(all_labels))\n",
    "    metrics = compute_metrics(eval_pred)\n",
    "    return total_loss / len(data_loader), metrics"
   ]
  },
  {
   "cell_type": "code",
   "execution_count": 4,
   "metadata": {},
   "outputs": [],
   "source": [
    "class SentimentDataset(Dataset):\n",
    "    def __init__(self, texts, labels, tokenizer, max_length):\n",
    "        self.texts = texts\n",
    "        self.labels = labels\n",
    "        self.tokenizer = tokenizer\n",
    "        self.max_length = max_length\n",
    "\n",
    "    def __len__(self):\n",
    "        return len(self.texts)\n",
    "\n",
    "    def __getitem__(self, idx):\n",
    "        text = self.texts[idx]\n",
    "        label = self.labels[idx]\n",
    "        encoding = self.tokenizer.encode_plus(\n",
    "            text,\n",
    "            truncation=True,\n",
    "            padding='max_length',\n",
    "            max_length=self.max_length,\n",
    "            return_tensors='pt'\n",
    "        )\n",
    "        return {\n",
    "            'input_ids': encoding['input_ids'].flatten(),\n",
    "            'attention_mask': encoding['attention_mask'].flatten(),\n",
    "            'label': torch.tensor(label, dtype=torch.long)\n",
    "        }"
   ]
  },
  {
   "cell_type": "code",
   "execution_count": 5,
   "metadata": {},
   "outputs": [],
   "source": [
    "def compute_metrics(eval_pred):\n",
    "    predictions, labels = eval_pred\n",
    "    predictions = np.argmax(predictions, axis=1) if predictions.ndim > 1 else (predictions > 0).astype(int)\n",
    "    \n",
    "    f1_score = f1.compute(predictions=predictions, references=labels, average=\"weighted\")\n",
    "    precision_score = precision.compute(predictions=predictions, references=labels, average=\"weighted\")\n",
    "    recall_score = recall.compute(predictions=predictions, references=labels, average=\"weighted\")\n",
    "    accuracy_score = accuracy.compute(predictions=predictions, references=labels)\n",
    "\n",
    "    return {\n",
    "        'f1': f1_score['f1'],\n",
    "        'precision': precision_score['precision'],\n",
    "        'recall': recall_score['recall'],\n",
    "        'accuracy': accuracy_score['accuracy'],\n",
    "    }"
   ]
  },
  {
   "cell_type": "code",
   "execution_count": 6,
   "metadata": {
    "scrolled": true
   },
   "outputs": [
    {
     "name": "stderr",
     "output_type": "stream",
     "text": [
      "Some weights of BertForSequenceClassification were not initialized from the model checkpoint at neuralmind/bert-base-portuguese-cased and are newly initialized: ['classifier.bias', 'classifier.weight']\n",
      "You should probably TRAIN this model on a down-stream task to be able to use it for predictions and inference.\n"
     ]
    },
    {
     "name": "stdout",
     "output_type": "stream",
     "text": [
      "Epoch 1:\n"
     ]
    },
    {
     "name": "stderr",
     "output_type": "stream",
     "text": [
      "Training: 100%|████████████████████████████████████████████████████████████| 5625/5625 [29:18<00:00,  3.20it/s]\n",
      "                                                                                                               \r"
     ]
    },
    {
     "name": "stdout",
     "output_type": "stream",
     "text": [
      "Training Loss: 0.2694\n",
      "Validation Loss: 0.2383\n",
      "Validation Accuracy: 0.9051\n",
      "Validation F1: 0.9051\n",
      "Validation Precision: 0.9051\n",
      "Validation Recall: 0.9051\n",
      "Epoch 2:\n"
     ]
    },
    {
     "name": "stderr",
     "output_type": "stream",
     "text": [
      "Training: 100%|████████████████████████████████████████████████████████████| 5625/5625 [29:24<00:00,  3.19it/s]\n",
      "                                                                                                               \r"
     ]
    },
    {
     "name": "stdout",
     "output_type": "stream",
     "text": [
      "Training Loss: 0.1876\n",
      "Validation Loss: 0.2418\n",
      "Validation Accuracy: 0.9073\n",
      "Validation F1: 0.9072\n",
      "Validation Precision: 0.9073\n",
      "Validation Recall: 0.9073\n",
      "Epoch 3:\n"
     ]
    },
    {
     "name": "stderr",
     "output_type": "stream",
     "text": [
      "Training: 100%|████████████████████████████████████████████████████████████| 5625/5625 [29:23<00:00,  3.19it/s]\n",
      "                                                                                                               \r"
     ]
    },
    {
     "name": "stdout",
     "output_type": "stream",
     "text": [
      "Training Loss: 0.1153\n",
      "Validation Loss: 0.2842\n",
      "Validation Accuracy: 0.9049\n",
      "Validation F1: 0.9049\n",
      "Validation Precision: 0.9049\n",
      "Validation Recall: 0.9049\n"
     ]
    }
   ],
   "source": [
    "accuracy = evaluate.load(\"accuracy\")\n",
    "recall = evaluate.load(\"recall\")\n",
    "f1 = evaluate.load(\"f1\")\n",
    "precision = evaluate.load(\"precision\")\n",
    "\n",
    "df = pd.read_parquet('../reviews/reviews_cleaned.parquet')\n",
    "\n",
    "num_samples = min(train_size, df['label'].value_counts().min())\n",
    "undersampled_dfs = []\n",
    "\n",
    "for label in df['label'].unique():\n",
    "    df_label = df[df['label'] == label]\n",
    "    if len(df_label) > num_samples:\n",
    "        df_label = resample(df_label, \n",
    "                            replace=False, \n",
    "                            n_samples=num_samples, \n",
    "                            random_state=42)\n",
    "    undersampled_dfs.append(df_label)\n",
    "\n",
    "df = pd.concat(undersampled_dfs)\n",
    "\n",
    "train_df, val_df = train_test_split(df, test_size=0.10, random_state=42)\n",
    "\n",
    "timestamp = datetime.now().strftime(\"%d-%m-%Y-%H-%M\")\n",
    "\n",
    "if model_choice == 'bert':\n",
    "    model_name = \"neuralmind/bert-base-portuguese-cased\"\n",
    "    tokenizer = AutoTokenizer.from_pretrained(model_name, clean_up_tokenization_spaces=True)\n",
    "    model = AutoModelForSequenceClassification.from_pretrained(model_name, num_labels=2)\n",
    "    model_save_path = f'../models/bert_model_{timestamp}_{train_size*2}'\n",
    "    tokenizer_save_path = f'../models/bert_tokenizer_{timestamp}_{train_size*2}'\n",
    "elif model_choice == 'albertina':\n",
    "    model_name = \"PORTULAN/albertina-100m-portuguese-ptbr-encoder\"\n",
    "    tokenizer = AutoTokenizer.from_pretrained(model_name, clean_up_tokenization_spaces=True)\n",
    "    model = AutoModelForSequenceClassification.from_pretrained(model_name, num_labels=2)\n",
    "    model_save_path = f'../models/albertina-ptbr_model_{timestamp}_{train_size*2}'\n",
    "    tokenizer_save_path = f'../models/albertina-ptbr_tokenizer_{timestamp}_{train_size*2}'\n",
    "elif model_choice == 'distilbert':\n",
    "    model_name = \"lxyuan/distilbert-base-multilingual-cased-sentiments-student\"\n",
    "    tokenizer = AutoTokenizer.from_pretrained(model_name, clean_up_tokenization_spaces=True)\n",
    "    model = AutoModelForSequenceClassification.from_pretrained(model_name, num_labels=2, ignore_mismatched_sizes=True)\n",
    "    model_save_path = f'../models/distilbert_model_{timestamp}_{train_size*2}'\n",
    "    tokenizer_save_path = f'../models/distilbert_tokenizer_{timestamp}_{train_size*2}'\n",
    "else:\n",
    "    raise ValueError(\"Modelo desconhecido! Escolha entre 'bert', 'distilbert', ou 'albertina'.\")\n",
    "\n",
    "\n",
    "train_dataset = SentimentDataset(train_df['text'].tolist(), train_df['label'].tolist(), tokenizer, max_length=max_length)\n",
    "val_dataset = SentimentDataset(val_df['text'].tolist(), val_df['label'].tolist(), tokenizer, max_length=max_length)\n",
    "\n",
    "train_loader = DataLoader(train_dataset, batch_size=batch_size, shuffle=True, num_workers=num_workers, pin_memory=True)\n",
    "val_loader = DataLoader(val_dataset, batch_size=batch_size, num_workers=num_workers)\n",
    "\n",
    "device = torch.device('cuda') if torch.cuda.is_available() else torch.device('cpu')\n",
    "model.to(device)\n",
    "\n",
    "optimizer = AdamW(model.parameters(), lr=5e-5)\n",
    "scheduler = get_scheduler(\n",
    "    \"linear\",\n",
    "    optimizer=optimizer,\n",
    "    num_warmup_steps=0,\n",
    "    num_training_steps=len(train_loader) * num_epochs\n",
    ")\n",
    "\n",
    "scaler = GradScaler('cuda')\n",
    "\n",
    "for epoch in range(num_epochs):\n",
    "    print(f\"Epoch {epoch + 1}:\")\n",
    "    train_loss = train_epoch(model, train_loader, optimizer, device)\n",
    "    val_loss, val_metrics = evaluateModel(model, val_loader, device)\n",
    "    print(f\"Training Loss: {train_loss:.4f}\")\n",
    "    print(f\"Validation Loss: {val_loss:.4f}\")\n",
    "    print(f\"Validation Accuracy: {val_metrics['accuracy']:.4f}\")\n",
    "    print(f\"Validation F1: {val_metrics['f1']:.4f}\")\n",
    "    print(f\"Validation Precision: {val_metrics['precision']:.4f}\")\n",
    "    print(f\"Validation Recall: {val_metrics['recall']:.4f}\")"
   ]
  },
  {
   "cell_type": "code",
   "execution_count": 7,
   "metadata": {
    "scrolled": true
   },
   "outputs": [
    {
     "name": "stderr",
     "output_type": "stream",
     "text": [
      "                                                                                                               \r"
     ]
    },
    {
     "data": {
      "image/png": "[encoded data removed]",
      "text/plain": [
       "<Figure size 800x800 with 2 Axes>"
      ]
     },
     "metadata": {},
     "output_type": "display_data"
    }
   ],
   "source": [
    "model.eval()\n",
    "all_preds = []\n",
    "all_labels = []\n",
    "\n",
    "with torch.no_grad():\n",
    "    for batch in tqdm(val_loader, desc=\"Evaluating\"):\n",
    "        input_ids = batch['input_ids'].to(device)\n",
    "        attention_mask = batch['attention_mask'].to(device)\n",
    "        labels = batch['label'].to(device)\n",
    "\n",
    "        outputs = model(input_ids, attention_mask=attention_mask)\n",
    "        preds = torch.argmax(outputs.logits, dim=1)\n",
    "\n",
    "        all_preds.extend(preds.cpu().numpy())\n",
    "        all_preds\n",
    "        all_labels.extend(labels.cpu().numpy())\n",
    "\n",
    "cm = confusion_matrix(all_labels, all_preds)\n",
    "\n",
    "disp = ConfusionMatrixDisplay(confusion_matrix=cm, display_labels=[\"Didn't like\", \"Liked\"])\n",
    "\n",
    "fig, ax = plt.subplots(figsize=(8, 8))\n",
    "disp.plot(ax=ax, cmap='Blues', values_format='d')\n",
    "plt.title(\"Confusion Matrix\")\n",
    "plt.show()"
   ]
  },
  {
   "cell_type": "code",
   "execution_count": 8,
   "metadata": {},
   "outputs": [
    {
     "name": "stdout",
     "output_type": "stream",
     "text": [
      "Modelo salvo em: ../models/bert_model_15-08-2024-16-06_200000\n",
      "Tokenizador salvo em: ../models/bert_tokenizer_15-08-2024-16-06_200000\n"
     ]
    },
    {
     "data": {
      "text/plain": [
       "('../models/bert_tokenizer_15-08-2024-16-06_200000/tokenizer_config.json',\n",
       " '../models/bert_tokenizer_15-08-2024-16-06_200000/special_tokens_map.json',\n",
       " '../models/bert_tokenizer_15-08-2024-16-06_200000/vocab.txt',\n",
       " '../models/bert_tokenizer_15-08-2024-16-06_200000/added_tokens.json',\n",
       " '../models/bert_tokenizer_15-08-2024-16-06_200000/tokenizer.json')"
      ]
     },
     "execution_count": 8,
     "metadata": {},
     "output_type": "execute_result"
    }
   ],
   "source": [
    "print(f\"Modelo salvo em: {model_save_path}\")\n",
    "print(f\"Tokenizador salvo em: {tokenizer_save_path}\")\n",
    "model.save_pretrained(model_save_path)\n",
    "tokenizer.save_pretrained(tokenizer_save_path)"
   ]
  },
  {
   "cell_type": "code",
   "execution_count": 15,
   "metadata": {},
   "outputs": [
    {
     "name": "stdout",
     "output_type": "stream",
     "text": [
      "Prediction: Negative\n"
     ]
    }
   ],
   "source": [
    "from transformers import BertTokenizer, BertForSequenceClassification\n",
    "import torch\n",
    "\n",
    "model = AutoModelForSequenceClassification.from_pretrained(model_save_path)\n",
    "tokenizer = AutoTokenizer.from_pretrained(tokenizer_save_path)\n",
    "\n",
    "device = torch.device('cuda' if torch.cuda.is_available() else 'cpu')\n",
    "model.to(device)\n",
    "\n",
    "new_sample = \"pra ser um jogo ruim tenque melhora mt ainda\"\n",
    "\n",
    "inputs = tokenizer(new_sample, return_tensors='pt', padding=True, truncation=True, max_length=max_length)\n",
    "\n",
    "inputs = {key: value.to(device) for key, value in inputs.items()}\n",
    "\n",
    "model.eval()\n",
    "with torch.no_grad():\n",
    "    outputs = model(**inputs)\n",
    "    logits = outputs.logits\n",
    "    prediction = torch.argmax(logits, dim=1).item()\n",
    "\n",
    "label_map = {0: \"Negative\", 1: \"Positive\"}\n",
    "print(f\"Prediction: {label_map[prediction]}\")\n"
   ]
  },
  {
   "cell_type": "code",
   "execution_count": 16,
   "metadata": {},
   "outputs": [
    {
     "name": "stdout",
     "output_type": "stream",
     "text": [
      "Prediction: Positive\n"
     ]
    }
   ],
   "source": [
    "new_sample = \"eu amei esse jogo estou viciado\"\n",
    "\n",
    "inputs = tokenizer(new_sample, return_tensors='pt', padding=True, truncation=True, max_length=max_length)\n",
    "\n",
    "inputs = {key: value.to(device) for key, value in inputs.items()}\n",
    "\n",
    "model.eval()\n",
    "with torch.no_grad():\n",
    "    outputs = model(**inputs)\n",
    "    logits = outputs.logits\n",
    "    prediction = torch.argmax(logits, dim=1).item()\n",
    "\n",
    "label_map = {0: \"Negative\", 1: \"Positive\"}\n",
    "print(f\"Prediction: {label_map[prediction]}\")"
   ]
  }
 ],
 "metadata": {
  "kernelspec": {
   "display_name": "Python 3 (ipykernel)",
   "language": "python",
   "name": "python3"
  },
  "language_info": {
   "codemirror_mode": {
    "name": "ipython",
    "version": 3
   },
   "file_extension": ".py",
   "mimetype": "text/x-python",
   "name": "python",
   "nbconvert_exporter": "python",
   "pygments_lexer": "ipython3",
   "version": "3.10.14"
  }
 },
 "nbformat": 4,
 "nbformat_minor": 4
}
