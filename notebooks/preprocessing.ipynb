{
 "cells": [
  {
   "cell_type": "code",
   "execution_count": 76,
   "metadata": {},
   "outputs": [],
   "source": [
    "import pandas as pd\n",
    "import matplotlib.pyplot as plt"
   ]
  },
  {
   "cell_type": "code",
   "execution_count": 77,
   "metadata": {},
   "outputs": [],
   "source": [
    "df = pd.read_parquet('../reviews/reviews.parquet')\n",
    "df = df.sample(frac=1, random_state=42).reset_index(drop=True)\n",
    "\n",
    "df['voted_up_numeric'] = df['voted_up'].map({True: 1, False: 0})\n",
    "\n",
    "columns_to_drop = ['steam_purchase', \n",
    "                   'language', \n",
    "                   'timestamp_updated', \n",
    "                   'author', \n",
    "                   'votes_funny',\n",
    "                   'voted_up',\n",
    "                   'votes_up', \n",
    "                   'written_during_early_access', \n",
    "                   'received_for_free',\n",
    "                   'playtime_at_review',\n",
    "                   'weighted_vote_score',]\n",
    "\n",
    "df.rename(columns={'review': 'text', 'voted_up_numeric': 'label'}, inplace=True)\n",
    "\n",
    "df.drop(columns=columns_to_drop, inplace=True)"
   ]
  },
  {
   "cell_type": "code",
   "execution_count": 78,
   "metadata": {},
   "outputs": [
    {
     "data": {
      "text/html": [
       "<div>\n",
       "<style scoped>\n",
       "    .dataframe tbody tr th:only-of-type {\n",
       "        vertical-align: middle;\n",
       "    }\n",
       "\n",
       "    .dataframe tbody tr th {\n",
       "        vertical-align: top;\n",
       "    }\n",
       "\n",
       "    .dataframe thead th {\n",
       "        text-align: right;\n",
       "    }\n",
       "</style>\n",
       "<table border=\"1\" class=\"dataframe\">\n",
       "  <thead>\n",
       "    <tr style=\"text-align: right;\">\n",
       "      <th></th>\n",
       "      <th>game</th>\n",
       "      <th>text</th>\n",
       "      <th>label</th>\n",
       "    </tr>\n",
       "  </thead>\n",
       "  <tbody>\n",
       "    <tr>\n",
       "      <th>0</th>\n",
       "      <td>550</td>\n",
       "      <td>.</td>\n",
       "      <td>1</td>\n",
       "    </tr>\n",
       "    <tr>\n",
       "      <th>1</th>\n",
       "      <td>774361</td>\n",
       "      <td>o jogo é legalzinho, por mais que pelo trailer...</td>\n",
       "      <td>1</td>\n",
       "    </tr>\n",
       "    <tr>\n",
       "      <th>2</th>\n",
       "      <td>322330</td>\n",
       "      <td>mt bom</td>\n",
       "      <td>1</td>\n",
       "    </tr>\n",
       "    <tr>\n",
       "      <th>3</th>\n",
       "      <td>730</td>\n",
       "      <td>top</td>\n",
       "      <td>1</td>\n",
       "    </tr>\n",
       "    <tr>\n",
       "      <th>4</th>\n",
       "      <td>221100</td>\n",
       "      <td>meupau</td>\n",
       "      <td>1</td>\n",
       "    </tr>\n",
       "  </tbody>\n",
       "</table>\n",
       "</div>"
      ],
      "text/plain": [
       "     game                                               text  label\n",
       "0     550                                                  .      1\n",
       "1  774361  o jogo é legalzinho, por mais que pelo trailer...      1\n",
       "2  322330                                            mt bom       1\n",
       "3     730                                                top      1\n",
       "4  221100                                             meupau      1"
      ]
     },
     "execution_count": 78,
     "metadata": {},
     "output_type": "execute_result"
    }
   ],
   "source": [
    "df.head()"
   ]
  },
  {
   "cell_type": "code",
   "execution_count": 79,
   "metadata": {},
   "outputs": [
    {
     "name": "stdout",
     "output_type": "stream",
     "text": [
      "Reviews: 2110458\n",
      "Quantidade de jogos: 808\n"
     ]
    }
   ],
   "source": [
    "n_rows = df.shape[0]\n",
    "n_games = len(df['game'].unique())\n",
    "\n",
    "\n",
    "print(f'Reviews: {n_rows}')\n",
    "print(f'Quantidade de jogos: {n_games}')"
   ]
  },
  {
   "cell_type": "code",
   "execution_count": 80,
   "metadata": {},
   "outputs": [
    {
     "name": "stdout",
     "output_type": "stream",
     "text": [
      "Reviews que contém apenas 👍: 1355\n"
     ]
    }
   ],
   "source": [
    "count_positive_reviews = df[df['text'] == '👍'].shape[0]\n",
    "print(f\"Reviews que contém apenas 👍: {count_positive_reviews}\")"
   ]
  },
  {
   "cell_type": "code",
   "execution_count": 81,
   "metadata": {},
   "outputs": [],
   "source": [
    "df.drop(df[df['text'] == '👍'].index, inplace=True)"
   ]
  },
  {
   "cell_type": "code",
   "execution_count": 82,
   "metadata": {},
   "outputs": [
    {
     "name": "stdout",
     "output_type": "stream",
     "text": [
      "Reviews: 2109103\n",
      "Quantidade de jogos: 808\n"
     ]
    }
   ],
   "source": [
    "n_rows = df.shape[0]\n",
    "n_games = len(df['game'].unique())\n",
    "\n",
    "\n",
    "print(f'Reviews: {n_rows}')\n",
    "print(f'Quantidade de jogos: {n_games}')"
   ]
  },
  {
   "cell_type": "code",
   "execution_count": 83,
   "metadata": {},
   "outputs": [],
   "source": [
    "df = df[df['text'].str.split().str.len() >= 4]"
   ]
  },
  {
   "cell_type": "code",
   "execution_count": 84,
   "metadata": {},
   "outputs": [
    {
     "name": "stdout",
     "output_type": "stream",
     "text": [
      "Reviews: 1320812\n",
      "Quantidade de jogos: 800\n"
     ]
    }
   ],
   "source": [
    "n_rows = df.shape[0]\n",
    "n_games = len(df['game'].unique())\n",
    "\n",
    "\n",
    "print(f'Reviews: {n_rows}')\n",
    "print(f'Quantidade de jogos: {n_games}')"
   ]
  },
  {
   "cell_type": "code",
   "execution_count": 85,
   "metadata": {},
   "outputs": [
    {
     "name": "stderr",
     "output_type": "stream",
     "text": [
      "/var/folders/kl/n_yd388n3n38s861kmsjpvqw0000gn/T/ipykernel_56836/1837967194.py:6: FutureWarning: \n",
      "\n",
      "Passing `palette` without assigning `hue` is deprecated and will be removed in v0.14.0. Assign the `x` variable to `hue` and set `legend=False` for the same effect.\n",
      "\n",
      "  ax = sns.countplot(x='label', data=df, palette={'1': 'green', '0': 'red'}, legend=False)\n",
      "/var/folders/kl/n_yd388n3n38s861kmsjpvqw0000gn/T/ipykernel_56836/1837967194.py:8: UserWarning: set_ticklabels() should only be used with a fixed number of ticks, i.e. after set_ticks() or using a FixedLocator.\n",
      "  ax.set_xticklabels(['Negativo', 'Positivo'], rotation=0, fontsize=14)\n"
     ]
    },
    {
     "data": {
      "image/png": "[encoded data removed]",
      "text/plain": [
       "<Figure size 800x600 with 1 Axes>"
      ]
     },
     "metadata": {},
     "output_type": "display_data"
    }
   ],
   "source": [
    "import seaborn as sns\n",
    "\n",
    "sns.set_theme(style=\"whitegrid\")\n",
    "\n",
    "plt.figure(figsize=(8, 6))\n",
    "ax = sns.countplot(x='label', data=df, palette={'1': 'green', '0': 'red'}, legend=False)\n",
    "\n",
    "ax.set_xticklabels(['Negativo', 'Positivo'], rotation=0, fontsize=14)\n",
    "\n",
    "ax.set_xlabel('Polaridade', fontsize=16)\n",
    "ax.set_ylabel('Quantidade', fontsize=16)\n",
    "ax.set_title('Distribuição de Votos Positivos e Negativos', fontsize=18)\n",
    "\n",
    "ax.tick_params(axis='both', which='major', labelsize=14)\n",
    "\n",
    "plt.show()"
   ]
  },
  {
   "cell_type": "code",
   "execution_count": 86,
   "metadata": {},
   "outputs": [],
   "source": [
    "from nltk.corpus import stopwords\n",
    "import re\n",
    "\n",
    "def remove_emojis(text):\n",
    "    emoji_pattern = re.compile(\"[\"\n",
    "                           u\"\\U0001F600-\\U0001F64F\"  # emoticons\n",
    "                           u\"\\U0001F300-\\U0001F5FF\"  # symbols & pictographs\n",
    "                           u\"\\U0001F680-\\U0001F6FF\"  # transport & map symbols\n",
    "                           u\"\\U0001F700-\\U0001F77F\"  # alchemical symbols\n",
    "                           u\"\\U0001F780-\\U0001F7FF\"  # Geometric Shapes Extended\n",
    "                           u\"\\U0001F800-\\U0001F8FF\"  # Supplemental Arrows-C\n",
    "                           u\"\\U0001F900-\\U0001F9FF\"  # Supplemental Symbols and Pictographs\n",
    "                           u\"\\U0001FA00-\\U0001FA6F\"  # Chess Symbols\n",
    "                           u\"\\U0001FA70-\\U0001FAFF\"  # Symbols and Pictographs Extended-A\n",
    "                           u\"\\U00002702-\\U000027B0\"  # Dingbats\n",
    "                           u\"\\U000024C2-\\U0001F251\" \n",
    "                           \"]+\", flags=re.UNICODE)\n",
    "    return emoji_pattern.sub(r'', text)\n",
    "\n",
    "def preparar_texto(texto):\n",
    "    if isinstance(texto, str):  # Verificar se o valor é uma string\n",
    "        texto = texto.lower()\n",
    "        texto = remove_emojis(texto)  # Remover emojis\n",
    "        texto = texto.replace(',', '')  # Remover vírgulas\n",
    "        tokens = texto.split()\n",
    "        tokens_limpos = [palavra for palavra in tokens if palavra not in stopwords_set]\n",
    "        return ' '.join(tokens_limpos)\n",
    "    return ''\n",
    "\n",
    "stopwords_set = set(stopwords.words('portuguese'))\n",
    "\n",
    "df['cleaned_text'] = df['text'].apply(preparar_texto)\n"
   ]
  },
  {
   "cell_type": "code",
   "execution_count": 87,
   "metadata": {},
   "outputs": [
    {
     "data": {
      "text/html": [
       "<div>\n",
       "<style scoped>\n",
       "    .dataframe tbody tr th:only-of-type {\n",
       "        vertical-align: middle;\n",
       "    }\n",
       "\n",
       "    .dataframe tbody tr th {\n",
       "        vertical-align: top;\n",
       "    }\n",
       "\n",
       "    .dataframe thead th {\n",
       "        text-align: right;\n",
       "    }\n",
       "</style>\n",
       "<table border=\"1\" class=\"dataframe\">\n",
       "  <thead>\n",
       "    <tr style=\"text-align: right;\">\n",
       "      <th></th>\n",
       "      <th>game</th>\n",
       "      <th>text</th>\n",
       "      <th>label</th>\n",
       "      <th>cleaned_text</th>\n",
       "    </tr>\n",
       "  </thead>\n",
       "  <tbody>\n",
       "    <tr>\n",
       "      <th>1</th>\n",
       "      <td>774361</td>\n",
       "      <td>o jogo é legalzinho, por mais que pelo trailer...</td>\n",
       "      <td>1</td>\n",
       "      <td>jogo legalzinho trailer pareça metroidvania qu...</td>\n",
       "    </tr>\n",
       "    <tr>\n",
       "      <th>5</th>\n",
       "      <td>70</td>\n",
       "      <td>Jogo perfeito. Valve nunca me decepciona</td>\n",
       "      <td>1</td>\n",
       "      <td>jogo perfeito. valve nunca decepciona</td>\n",
       "    </tr>\n",
       "    <tr>\n",
       "      <th>6</th>\n",
       "      <td>270880</td>\n",
       "      <td>Como fã de ETS 1 e 2, gostei muito do ATS, ape...</td>\n",
       "      <td>1</td>\n",
       "      <td>fã ets 1 2 gostei ats apenas achei consumo com...</td>\n",
       "    </tr>\n",
       "    <tr>\n",
       "      <th>9</th>\n",
       "      <td>1222680</td>\n",
       "      <td>[b]Super Recomendo[/b]Irei avaliar este jogo c...</td>\n",
       "      <td>1</td>\n",
       "      <td>[b]super recomendo[/b]irei avaliar jogo base [...</td>\n",
       "    </tr>\n",
       "    <tr>\n",
       "      <th>11</th>\n",
       "      <td>268910</td>\n",
       "      <td>Jogo é bom, porém muito fácil !!! 24 hrs pai b...</td>\n",
       "      <td>1</td>\n",
       "      <td>jogo bom porém fácil !!! 24 hrs pai boto 100% ...</td>\n",
       "    </tr>\n",
       "  </tbody>\n",
       "</table>\n",
       "</div>"
      ],
      "text/plain": [
       "       game                                               text  label  \\\n",
       "1    774361  o jogo é legalzinho, por mais que pelo trailer...      1   \n",
       "5        70           Jogo perfeito. Valve nunca me decepciona      1   \n",
       "6    270880  Como fã de ETS 1 e 2, gostei muito do ATS, ape...      1   \n",
       "9   1222680  [b]Super Recomendo[/b]Irei avaliar este jogo c...      1   \n",
       "11   268910  Jogo é bom, porém muito fácil !!! 24 hrs pai b...      1   \n",
       "\n",
       "                                         cleaned_text  \n",
       "1   jogo legalzinho trailer pareça metroidvania qu...  \n",
       "5               jogo perfeito. valve nunca decepciona  \n",
       "6   fã ets 1 2 gostei ats apenas achei consumo com...  \n",
       "9   [b]super recomendo[/b]irei avaliar jogo base [...  \n",
       "11  jogo bom porém fácil !!! 24 hrs pai boto 100% ...  "
      ]
     },
     "execution_count": 87,
     "metadata": {},
     "output_type": "execute_result"
    }
   ],
   "source": [
    "df.head()"
   ]
  },
  {
   "cell_type": "code",
   "execution_count": 88,
   "metadata": {},
   "outputs": [
    {
     "data": {
      "text/html": [
       "<div>\n",
       "<style scoped>\n",
       "    .dataframe tbody tr th:only-of-type {\n",
       "        vertical-align: middle;\n",
       "    }\n",
       "\n",
       "    .dataframe tbody tr th {\n",
       "        vertical-align: top;\n",
       "    }\n",
       "\n",
       "    .dataframe thead th {\n",
       "        text-align: right;\n",
       "    }\n",
       "</style>\n",
       "<table border=\"1\" class=\"dataframe\">\n",
       "  <thead>\n",
       "    <tr style=\"text-align: right;\">\n",
       "      <th></th>\n",
       "      <th>game</th>\n",
       "      <th>text</th>\n",
       "      <th>label</th>\n",
       "      <th>cleaned_text</th>\n",
       "    </tr>\n",
       "  </thead>\n",
       "  <tbody>\n",
       "    <tr>\n",
       "      <th>88</th>\n",
       "      <td>2195250</td>\n",
       "      <td>comprei esse jogo e sumiu da minha biblioteca ...</td>\n",
       "      <td>0</td>\n",
       "      <td>comprei jogo sumiu biblioteca q fazer ?????ago...</td>\n",
       "    </tr>\n",
       "    <tr>\n",
       "      <th>100</th>\n",
       "      <td>289070</td>\n",
       "      <td>2K acabou com o jogo. UMA BOSTA.</td>\n",
       "      <td>0</td>\n",
       "      <td>2k acabou jogo. bosta.</td>\n",
       "    </tr>\n",
       "    <tr>\n",
       "      <th>119</th>\n",
       "      <td>477160</td>\n",
       "      <td>jogo muito bom,mas se vc jogar por 1 minuto, O...</td>\n",
       "      <td>0</td>\n",
       "      <td>jogo bommas vc jogar 1 minuto jogo literalment...</td>\n",
       "    </tr>\n",
       "    <tr>\n",
       "      <th>155</th>\n",
       "      <td>252950</td>\n",
       "      <td>muito dahora pra passar o tempo... mas enjoa</td>\n",
       "      <td>0</td>\n",
       "      <td>dahora pra passar tempo... enjoa</td>\n",
       "    </tr>\n",
       "    <tr>\n",
       "      <th>184</th>\n",
       "      <td>2195250</td>\n",
       "      <td>..........Infelizmente minha experiência acabo...</td>\n",
       "      <td>0</td>\n",
       "      <td>..........infelizmente experiência acabou send...</td>\n",
       "    </tr>\n",
       "  </tbody>\n",
       "</table>\n",
       "</div>"
      ],
      "text/plain": [
       "        game                                               text  label  \\\n",
       "88   2195250  comprei esse jogo e sumiu da minha biblioteca ...      0   \n",
       "100   289070                   2K acabou com o jogo. UMA BOSTA.      0   \n",
       "119   477160  jogo muito bom,mas se vc jogar por 1 minuto, O...      0   \n",
       "155   252950       muito dahora pra passar o tempo... mas enjoa      0   \n",
       "184  2195250  ..........Infelizmente minha experiência acabo...      0   \n",
       "\n",
       "                                          cleaned_text  \n",
       "88   comprei jogo sumiu biblioteca q fazer ?????ago...  \n",
       "100                             2k acabou jogo. bosta.  \n",
       "119  jogo bommas vc jogar 1 minuto jogo literalment...  \n",
       "155                   dahora pra passar tempo... enjoa  \n",
       "184  ..........infelizmente experiência acabou send...  "
      ]
     },
     "execution_count": 88,
     "metadata": {},
     "output_type": "execute_result"
    }
   ],
   "source": [
    "df[df['label'] == False].head()"
   ]
  },
  {
   "cell_type": "code",
   "execution_count": 89,
   "metadata": {},
   "outputs": [],
   "source": [
    "df.drop(columns=['text'], inplace=True)\n",
    "df.rename(columns={'cleaned_text': 'text'}, inplace=True)\n",
    "df.reset_index(drop=True, inplace=True)"
   ]
  },
  {
   "cell_type": "code",
   "execution_count": 90,
   "metadata": {},
   "outputs": [],
   "source": [
    "df.to_parquet('../reviews/reviews_cleaned.parquet', index=False)"
   ]
  },
  {
   "cell_type": "code",
   "execution_count": 91,
   "metadata": {},
   "outputs": [
    {
     "data": {
      "text/html": [
       "<div>\n",
       "<style scoped>\n",
       "    .dataframe tbody tr th:only-of-type {\n",
       "        vertical-align: middle;\n",
       "    }\n",
       "\n",
       "    .dataframe tbody tr th {\n",
       "        vertical-align: top;\n",
       "    }\n",
       "\n",
       "    .dataframe thead th {\n",
       "        text-align: right;\n",
       "    }\n",
       "</style>\n",
       "<table border=\"1\" class=\"dataframe\">\n",
       "  <thead>\n",
       "    <tr style=\"text-align: right;\">\n",
       "      <th></th>\n",
       "      <th>game</th>\n",
       "      <th>label</th>\n",
       "      <th>text</th>\n",
       "    </tr>\n",
       "  </thead>\n",
       "  <tbody>\n",
       "    <tr>\n",
       "      <th>0</th>\n",
       "      <td>774361</td>\n",
       "      <td>1</td>\n",
       "      <td>jogo legalzinho trailer pareça metroidvania qu...</td>\n",
       "    </tr>\n",
       "    <tr>\n",
       "      <th>1</th>\n",
       "      <td>70</td>\n",
       "      <td>1</td>\n",
       "      <td>jogo perfeito. valve nunca decepciona</td>\n",
       "    </tr>\n",
       "    <tr>\n",
       "      <th>2</th>\n",
       "      <td>270880</td>\n",
       "      <td>1</td>\n",
       "      <td>fã ets 1 2 gostei ats apenas achei consumo com...</td>\n",
       "    </tr>\n",
       "    <tr>\n",
       "      <th>3</th>\n",
       "      <td>1222680</td>\n",
       "      <td>1</td>\n",
       "      <td>[b]super recomendo[/b]irei avaliar jogo base [...</td>\n",
       "    </tr>\n",
       "    <tr>\n",
       "      <th>4</th>\n",
       "      <td>268910</td>\n",
       "      <td>1</td>\n",
       "      <td>jogo bom porém fácil !!! 24 hrs pai boto 100% ...</td>\n",
       "    </tr>\n",
       "  </tbody>\n",
       "</table>\n",
       "</div>"
      ],
      "text/plain": [
       "      game  label                                               text\n",
       "0   774361      1  jogo legalzinho trailer pareça metroidvania qu...\n",
       "1       70      1              jogo perfeito. valve nunca decepciona\n",
       "2   270880      1  fã ets 1 2 gostei ats apenas achei consumo com...\n",
       "3  1222680      1  [b]super recomendo[/b]irei avaliar jogo base [...\n",
       "4   268910      1  jogo bom porém fácil !!! 24 hrs pai boto 100% ..."
      ]
     },
     "execution_count": 91,
     "metadata": {},
     "output_type": "execute_result"
    }
   ],
   "source": [
    "df = pd.read_parquet('../reviews/reviews_cleaned.parquet')\n",
    "df.head()"
   ]
  },
  {
   "cell_type": "code",
   "execution_count": 92,
   "metadata": {},
   "outputs": [
    {
     "name": "stdout",
     "output_type": "stream",
     "text": [
      "<class 'pandas.core.frame.DataFrame'>\n",
      "RangeIndex: 1320812 entries, 0 to 1320811\n",
      "Data columns (total 3 columns):\n",
      " #   Column  Non-Null Count    Dtype \n",
      "---  ------  --------------    ----- \n",
      " 0   game    1320812 non-null  int64 \n",
      " 1   label   1320812 non-null  int64 \n",
      " 2   text    1320812 non-null  object\n",
      "dtypes: int64(2), object(1)\n",
      "memory usage: 30.2+ MB\n"
     ]
    }
   ],
   "source": [
    "df.info()"
   ]
  },
  {
   "cell_type": "code",
   "execution_count": null,
   "metadata": {},
   "outputs": [],
   "source": []
  }
 ],
 "metadata": {
  "kernelspec": {
   "display_name": ".venv",
   "language": "python",
   "name": "python3"
  },
  "language_info": {
   "codemirror_mode": {
    "name": "ipython",
    "version": 3
   },
   "file_extension": ".py",
   "mimetype": "text/x-python",
   "name": "python",
   "nbconvert_exporter": "python",
   "pygments_lexer": "ipython3",
   "version": "3.10.14"
  }
 },
 "nbformat": 4,
 "nbformat_minor": 2
}
